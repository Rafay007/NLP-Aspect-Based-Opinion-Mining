{
 "cells": [
  {
   "cell_type": "markdown",
   "metadata": {},
   "source": [
    "# Plot.ly Charts"
   ]
  },
  {
   "cell_type": "code",
   "execution_count": 1,
   "metadata": {},
   "outputs": [
    {
     "data": {
      "text/plain": [
       "'done'"
      ]
     },
     "execution_count": 1,
     "metadata": {},
     "output_type": "execute_result"
    }
   ],
   "source": [
    "import pickle\n",
    "from collections import Counter, OrderedDict\n",
    "\n",
    "# bellagios_sentiment = pickle.load(open(\"../code/bellagios_sentiment.pkl\", \"rb\"))\n",
    "# bellagios_dict = pickle.load(open(\"../code/bellagios_dict.pkl\", \"rb\"))\n",
    "bellagios_sentiment = pickle.load(open(\"yardbird_sentiment.pkl\", \"rb\"))\n",
    "bellagios_dict = pickle.load(open(\"yardbird_dict.pkl\", \"rb\"))\n",
    "'done'"
   ]
  },
  {
   "cell_type": "code",
   "execution_count": 2,
   "metadata": {},
   "outputs": [
    {
     "data": {
      "text/plain": [
       "{'ambience': Counter({'pos': 1620.0, 'neg': 107.5}),\n",
       " 'food': Counter({'pos': 3950.75, 'neg': 333.0}),\n",
       " 'price': Counter({'pos': 122.25, 'neg': 26}),\n",
       " 'service': Counter({'pos': 1164.875, 'neg': 144.25}),\n",
       " 'misc': Counter({'pos': 94.0, 'neg': 31.0})}"
      ]
     },
     "execution_count": 2,
     "metadata": {},
     "output_type": "execute_result"
    }
   ],
   "source": [
    "bellagios_sentiment"
   ]
  },
  {
   "cell_type": "code",
   "execution_count": 3,
   "metadata": {},
   "outputs": [
    {
     "data": {
      "text/plain": [
       "defaultdict(None,\n",
       "            {'ambience': [('ambiance', 217.0),\n",
       "              ('quality', 135.0),\n",
       "              ('ambience', 128.5),\n",
       "              ('atmosphere', 125.25),\n",
       "              ('environment', 111.0),\n",
       "              ('taste', 90.25),\n",
       "              ('cuisine', 70),\n",
       "              ('location', 61),\n",
       "              ('dining', 43.0),\n",
       "              ('food quality', 32.0)],\n",
       "             'food': [('food', 1080.0),\n",
       "              ('restaurant', 325.5),\n",
       "              ('variety', 225.0),\n",
       "              ('place', 95.5),\n",
       "              ('restaurants', 83),\n",
       "              ('dinner', 51),\n",
       "              ('dishes', 50),\n",
       "              ('menu', 44.5),\n",
       "              ('experience', 40),\n",
       "              ('bbq', 38)],\n",
       "             'price': [('value', 35.25),\n",
       "              ('price', 24.0),\n",
       "              ('prices', 17),\n",
       "              ('level', 4),\n",
       "              ('supply', 3),\n",
       "              ('amount', 3),\n",
       "              ('parking', 3),\n",
       "              ('discounts', 2),\n",
       "              ('rates', 2),\n",
       "              ('service level', 2)],\n",
       "             'service': [('service', 570.375),\n",
       "              ('staff', 153.5),\n",
       "              ('services', 34),\n",
       "              ('experience', 16),\n",
       "              ('waiters', 12),\n",
       "              ('customer', 7),\n",
       "              ('smile', 7),\n",
       "              ('presentation', 6),\n",
       "              ('view', 5),\n",
       "              ('serving', 5)],\n",
       "             'misc': [('staff', 13.5),\n",
       "              ('view', 5),\n",
       "              ('par excellence', 4),\n",
       "              ('place', 3),\n",
       "              ('experince', 3),\n",
       "              ('notch', 2),\n",
       "              ('knowledge', 2),\n",
       "              ('helping', 2),\n",
       "              ('waiters', 2),\n",
       "              ('perfection', 2)]})"
      ]
     },
     "execution_count": 3,
     "metadata": {},
     "output_type": "execute_result"
    }
   ],
   "source": [
    "from collections import defaultdict\n",
    "import pandas as pd\n",
    "lowest_bellagios = defaultdict()\n",
    "highest_bellagios = defaultdict()\n",
    "for i in bellagios_dict:\n",
    "    if bellagios_dict[i]:\n",
    "        highest_bellagios[i] = bellagios_dict[i].most_common()[:10]\n",
    "        lowest_bellagios[i] = bellagios_dict[i].most_common()[-10:]\n",
    "highest_bellagios"
   ]
  },
  {
   "cell_type": "code",
   "execution_count": 4,
   "metadata": {},
   "outputs": [
    {
     "data": {
      "text/plain": [
       "defaultdict(None,\n",
       "            {'ambience': [('lacking', -1),\n",
       "              ('eyesore', -1),\n",
       "              ('stench', -1),\n",
       "              ('older', -1),\n",
       "              ('thing', -1),\n",
       "              ('smoke', -1),\n",
       "              ('drawback', -1),\n",
       "              ('issue', -1),\n",
       "              ('reviews', -2),\n",
       "              ('noise', -6)],\n",
       "             'food': [('hype', -2),\n",
       "              ('rice', -2),\n",
       "              ('lamb shank', -2),\n",
       "              ('issue', -2),\n",
       "              ('problem', -2.5),\n",
       "              ('lack', -3),\n",
       "              ('disappointment', -4),\n",
       "              ('lemon', -5),\n",
       "              ('doubt', -6),\n",
       "              ('desert', -8.5)],\n",
       "             'price': [('passion', 1),\n",
       "              ('cost', 1),\n",
       "              ('service levels', 1),\n",
       "              ('noise level', -1),\n",
       "              ('desert', -1),\n",
       "              ('pizza supply', -1),\n",
       "              ('break', -1),\n",
       "              ('bit', -2),\n",
       "              ('side', -2),\n",
       "              ('downside', -4)],\n",
       "             'service': [('interruptions', -1),\n",
       "              ('disappointment', -1),\n",
       "              ('seating arrangment', -1),\n",
       "              ('courtesy', -1),\n",
       "              ('lemon wedge', -2),\n",
       "              ('drawback', -2),\n",
       "              ('problems', -2),\n",
       "              ('desert', -2),\n",
       "              ('problem', -3),\n",
       "              ('issue', -4)],\n",
       "             'misc': [('fear', -1),\n",
       "              ('problem', -1),\n",
       "              ('quantity', -1),\n",
       "              ('spot', -1.5),\n",
       "              ('variety', -1.5),\n",
       "              ('yesterday', -1.5),\n",
       "              ('waiting', -1.5),\n",
       "              ('times', -2),\n",
       "              ('side', -2),\n",
       "              ('nuisance', -2.5)]})"
      ]
     },
     "execution_count": 4,
     "metadata": {},
     "output_type": "execute_result"
    }
   ],
   "source": [
    "lowest_bellagios"
   ]
  },
  {
   "cell_type": "code",
   "execution_count": 7,
   "metadata": {},
   "outputs": [
    {
     "data": {
      "text/plain": [
       "'done'"
      ]
     },
     "execution_count": 7,
     "metadata": {},
     "output_type": "execute_result"
    }
   ],
   "source": [
    "highest_df_bellagios = pd.DataFrame(highest_bellagios)\n",
    "lowest_df_bellagios = pd.DataFrame(lowest_bellagios)\n",
    "\n",
    "\n",
    "\n",
    "# highest_df_yardbird = pd.DataFrame(highest_yardbird)\n",
    "# lowest_df_yardbird = pd.DataFrame(lowest_yardbird)\n",
    "'done'"
   ]
  },
  {
   "cell_type": "code",
   "execution_count": 8,
   "metadata": {},
   "outputs": [
    {
     "data": {
      "text/plain": [
       "<matplotlib.axes._subplots.AxesSubplot at 0x26c08b45688>"
      ]
     },
     "execution_count": 8,
     "metadata": {},
     "output_type": "execute_result"
    },
    {
     "data": {
      "image/png": "[encoded data removed]",
      "text/plain": [
       "<Figure size 1440x495 with 1 Axes>"
      ]
     },
     "metadata": {
      "needs_background": "light"
     },
     "output_type": "display_data"
    }
   ],
   "source": [
    "import pandas as pd\n",
    "import numpy as np\n",
    "import matplotlib.pyplot as plt\n",
    "import six\n",
    "%matplotlib inline\n",
    "def render_mpl_table(data, col_width=3.0, row_height=0.625, font_size=14,\n",
    "                     header_color='#40466e', row_colors=['#f1f1f2', 'w'], edge_color='w',\n",
    "                     bbox=[0, 0, 1, 1], header_columns=0,\n",
    "                     ax=None, **kwargs):\n",
    "    if ax is None:\n",
    "        size = (np.array(data.shape[::-1]) + np.array([0, 1])) * np.array([col_width, row_height])\n",
    "        fig, ax = plt.subplots(figsize=size)\n",
    "        ax.axis('off')\n",
    "\n",
    "    mpl_table = ax.table(cellText=data.values, bbox=bbox, colLabels=data.columns, **kwargs)\n",
    "\n",
    "    mpl_table.auto_set_font_size(False)\n",
    "    mpl_table.set_fontsize(font_size)\n",
    "\n",
    "    for k, cell in  six.iteritems(mpl_table._cells):\n",
    "        cell.set_edgecolor(edge_color)\n",
    "        if k[0] == 0 or k[1] < header_columns:\n",
    "            cell.set_text_props(weight='bold', color='w')\n",
    "            cell.set_facecolor(header_color)\n",
    "        else:\n",
    "            cell.set_facecolor(row_colors[k[0]%len(row_colors) ])\n",
    "    return ax\n",
    "\n",
    "render_mpl_table(highest_df_bellagios, header_columns=0, col_width=4.0)\n"
   ]
  },
  {
   "cell_type": "code",
   "execution_count": 9,
   "metadata": {},
   "outputs": [
    {
     "ename": "NameError",
     "evalue": "name 'highest_df_yardbird' is not defined",
     "output_type": "error",
     "traceback": [
      "\u001b[1;31m---------------------------------------------------------------------------\u001b[0m",
      "\u001b[1;31mNameError\u001b[0m                                 Traceback (most recent call last)",
      "\u001b[1;32m<ipython-input-9-3055e5221cc6>\u001b[0m in \u001b[0;36m<module>\u001b[1;34m\u001b[0m\n\u001b[0;32m     27\u001b[0m     \u001b[1;32mreturn\u001b[0m \u001b[0max\u001b[0m\u001b[1;33m\u001b[0m\u001b[1;33m\u001b[0m\u001b[0m\n\u001b[0;32m     28\u001b[0m \u001b[1;33m\u001b[0m\u001b[0m\n\u001b[1;32m---> 29\u001b[1;33m \u001b[0mrender_mpl_table\u001b[0m\u001b[1;33m(\u001b[0m\u001b[0mhighest_df_yardbird\u001b[0m\u001b[1;33m,\u001b[0m \u001b[0mheader_columns\u001b[0m\u001b[1;33m=\u001b[0m\u001b[1;36m0\u001b[0m\u001b[1;33m,\u001b[0m \u001b[0mcol_width\u001b[0m\u001b[1;33m=\u001b[0m\u001b[1;36m4.0\u001b[0m\u001b[1;33m)\u001b[0m\u001b[1;33m\u001b[0m\u001b[1;33m\u001b[0m\u001b[0m\n\u001b[0m",
      "\u001b[1;31mNameError\u001b[0m: name 'highest_df_yardbird' is not defined"
     ]
    }
   ],
   "source": [
    "import pandas as pd\n",
    "import numpy as np\n",
    "import matplotlib.pyplot as plt\n",
    "import six\n",
    "%matplotlib inline\n",
    "def render_mpl_table(data, col_width=3.0, row_height=0.625, font_size=14,\n",
    "                     header_color='#40466e', row_colors=['#f1f1f2', 'w'], edge_color='w',\n",
    "                     bbox=[0, 0, 1, 1], header_columns=0,\n",
    "                     ax=None, **kwargs):\n",
    "    if ax is None:\n",
    "        size = (np.array(data.shape[::-1]) + np.array([0, 1])) * np.array([col_width, row_height])\n",
    "        fig, ax = plt.subplots(figsize=size)\n",
    "        ax.axis('off')\n",
    "\n",
    "    mpl_table = ax.table(cellText=data.values, bbox=bbox, colLabels=data.columns, **kwargs)\n",
    "\n",
    "    mpl_table.auto_set_font_size(False)\n",
    "    mpl_table.set_fontsize(font_size)\n",
    "\n",
    "    for k, cell in  six.iteritems(mpl_table._cells):\n",
    "        cell.set_edgecolor(edge_color)\n",
    "        if k[0] == 0 or k[1] < header_columns:\n",
    "            cell.set_text_props(weight='bold', color='w')\n",
    "            cell.set_facecolor(header_color)\n",
    "        else:\n",
    "            cell.set_facecolor(row_colors[k[0]%len(row_colors) ])\n",
    "    return ax\n",
    "\n",
    "render_mpl_table(highest_df_yardbird, header_columns=0, col_width=4.0)\n"
   ]
  },
  {
   "cell_type": "markdown",
   "metadata": {},
   "source": [
    "### Code for visualizing reviews per aspect category and pos/neg ratio"
   ]
  },
  {
   "cell_type": "code",
   "execution_count": 10,
   "metadata": {},
   "outputs": [
    {
     "data": {
      "text/html": [
       "<div>\n",
       "<style scoped>\n",
       "    .dataframe tbody tr th:only-of-type {\n",
       "        vertical-align: middle;\n",
       "    }\n",
       "\n",
       "    .dataframe tbody tr th {\n",
       "        vertical-align: top;\n",
       "    }\n",
       "\n",
       "    .dataframe thead th {\n",
       "        text-align: right;\n",
       "    }\n",
       "</style>\n",
       "<table border=\"1\" class=\"dataframe\">\n",
       "  <thead>\n",
       "    <tr style=\"text-align: right;\">\n",
       "      <th></th>\n",
       "      <th>pos</th>\n",
       "      <th>neg</th>\n",
       "    </tr>\n",
       "  </thead>\n",
       "  <tbody>\n",
       "    <tr>\n",
       "      <th>ambience</th>\n",
       "      <td>1620.000</td>\n",
       "      <td>107.50</td>\n",
       "    </tr>\n",
       "    <tr>\n",
       "      <th>food</th>\n",
       "      <td>3950.750</td>\n",
       "      <td>333.00</td>\n",
       "    </tr>\n",
       "    <tr>\n",
       "      <th>price</th>\n",
       "      <td>122.250</td>\n",
       "      <td>26.00</td>\n",
       "    </tr>\n",
       "    <tr>\n",
       "      <th>service</th>\n",
       "      <td>1164.875</td>\n",
       "      <td>144.25</td>\n",
       "    </tr>\n",
       "    <tr>\n",
       "      <th>misc</th>\n",
       "      <td>94.000</td>\n",
       "      <td>31.00</td>\n",
       "    </tr>\n",
       "  </tbody>\n",
       "</table>\n",
       "</div>"
      ],
      "text/plain": [
       "               pos     neg\n",
       "ambience  1620.000  107.50\n",
       "food      3950.750  333.00\n",
       "price      122.250   26.00\n",
       "service   1164.875  144.25\n",
       "misc        94.000   31.00"
      ]
     },
     "execution_count": 10,
     "metadata": {},
     "output_type": "execute_result"
    }
   ],
   "source": [
    "bellagios_df = pd.DataFrame(bellagios_sentiment).T\n",
    "bellagios_df"
   ]
  },
  {
   "cell_type": "code",
   "execution_count": 29,
   "metadata": {},
   "outputs": [
    {
     "data": {
      "text/html": [
       "<div>\n",
       "<style scoped>\n",
       "    .dataframe tbody tr th:only-of-type {\n",
       "        vertical-align: middle;\n",
       "    }\n",
       "\n",
       "    .dataframe tbody tr th {\n",
       "        vertical-align: top;\n",
       "    }\n",
       "\n",
       "    .dataframe thead th {\n",
       "        text-align: right;\n",
       "    }\n",
       "</style>\n",
       "<table border=\"1\" class=\"dataframe\">\n",
       "  <thead>\n",
       "    <tr style=\"text-align: right;\">\n",
       "      <th></th>\n",
       "      <th>pos</th>\n",
       "      <th>neg</th>\n",
       "    </tr>\n",
       "  </thead>\n",
       "  <tbody>\n",
       "    <tr>\n",
       "      <td>ambience</td>\n",
       "      <td>1620.000</td>\n",
       "      <td>107.50</td>\n",
       "    </tr>\n",
       "    <tr>\n",
       "      <td>food</td>\n",
       "      <td>3950.750</td>\n",
       "      <td>333.00</td>\n",
       "    </tr>\n",
       "    <tr>\n",
       "      <td>price</td>\n",
       "      <td>122.250</td>\n",
       "      <td>26.00</td>\n",
       "    </tr>\n",
       "    <tr>\n",
       "      <td>service</td>\n",
       "      <td>1164.875</td>\n",
       "      <td>144.25</td>\n",
       "    </tr>\n",
       "    <tr>\n",
       "      <td>misc</td>\n",
       "      <td>94.000</td>\n",
       "      <td>31.00</td>\n",
       "    </tr>\n",
       "  </tbody>\n",
       "</table>\n",
       "</div>"
      ],
      "text/plain": [
       "               pos     neg\n",
       "ambience  1620.000  107.50\n",
       "food      3950.750  333.00\n",
       "price      122.250   26.00\n",
       "service   1164.875  144.25\n",
       "misc        94.000   31.00"
      ]
     },
     "execution_count": 29,
     "metadata": {},
     "output_type": "execute_result"
    }
   ],
   "source": [
    "yardbird_df = pd.DataFrame(yardbird_sentiment).T\n",
    "yardbird_df"
   ]
  },
  {
   "cell_type": "code",
   "execution_count": 11,
   "metadata": {},
   "outputs": [
    {
     "data": {
      "text/html": [
       "<div>\n",
       "<style scoped>\n",
       "    .dataframe tbody tr th:only-of-type {\n",
       "        vertical-align: middle;\n",
       "    }\n",
       "\n",
       "    .dataframe tbody tr th {\n",
       "        vertical-align: top;\n",
       "    }\n",
       "\n",
       "    .dataframe thead th {\n",
       "        text-align: right;\n",
       "    }\n",
       "</style>\n",
       "<table border=\"1\" class=\"dataframe\">\n",
       "  <thead>\n",
       "    <tr style=\"text-align: right;\">\n",
       "      <th></th>\n",
       "      <th>pos</th>\n",
       "      <th>neg</th>\n",
       "      <th>total</th>\n",
       "      <th>neg_per</th>\n",
       "      <th>pos_per</th>\n",
       "    </tr>\n",
       "  </thead>\n",
       "  <tbody>\n",
       "    <tr>\n",
       "      <th>ambience</th>\n",
       "      <td>1620.000</td>\n",
       "      <td>107.50</td>\n",
       "      <td>1727.500</td>\n",
       "      <td>0.062229</td>\n",
       "      <td>0.937771</td>\n",
       "    </tr>\n",
       "    <tr>\n",
       "      <th>food</th>\n",
       "      <td>3950.750</td>\n",
       "      <td>333.00</td>\n",
       "      <td>4283.750</td>\n",
       "      <td>0.077736</td>\n",
       "      <td>0.922264</td>\n",
       "    </tr>\n",
       "    <tr>\n",
       "      <th>price</th>\n",
       "      <td>122.250</td>\n",
       "      <td>26.00</td>\n",
       "      <td>148.250</td>\n",
       "      <td>0.175379</td>\n",
       "      <td>0.824621</td>\n",
       "    </tr>\n",
       "    <tr>\n",
       "      <th>service</th>\n",
       "      <td>1164.875</td>\n",
       "      <td>144.25</td>\n",
       "      <td>1309.125</td>\n",
       "      <td>0.110188</td>\n",
       "      <td>0.889812</td>\n",
       "    </tr>\n",
       "    <tr>\n",
       "      <th>misc</th>\n",
       "      <td>94.000</td>\n",
       "      <td>31.00</td>\n",
       "      <td>125.000</td>\n",
       "      <td>0.248000</td>\n",
       "      <td>0.752000</td>\n",
       "    </tr>\n",
       "  </tbody>\n",
       "</table>\n",
       "</div>"
      ],
      "text/plain": [
       "               pos     neg     total   neg_per   pos_per\n",
       "ambience  1620.000  107.50  1727.500  0.062229  0.937771\n",
       "food      3950.750  333.00  4283.750  0.077736  0.922264\n",
       "price      122.250   26.00   148.250  0.175379  0.824621\n",
       "service   1164.875  144.25  1309.125  0.110188  0.889812\n",
       "misc        94.000   31.00   125.000  0.248000  0.752000"
      ]
     },
     "execution_count": 11,
     "metadata": {},
     "output_type": "execute_result"
    }
   ],
   "source": [
    "bellagios_df[\"total\"] = bellagios_df.neg + bellagios_df.pos\n",
    "bellagios_df[\"neg_per\"] = bellagios_df.neg/(bellagios_df.neg + bellagios_df.pos)\n",
    "bellagios_df[\"pos_per\"] = bellagios_df.pos/(bellagios_df.neg + bellagios_df.pos)\n",
    "bellagios_df"
   ]
  },
  {
   "cell_type": "code",
   "execution_count": 31,
   "metadata": {},
   "outputs": [
    {
     "data": {
      "text/html": [
       "<div>\n",
       "<style scoped>\n",
       "    .dataframe tbody tr th:only-of-type {\n",
       "        vertical-align: middle;\n",
       "    }\n",
       "\n",
       "    .dataframe tbody tr th {\n",
       "        vertical-align: top;\n",
       "    }\n",
       "\n",
       "    .dataframe thead th {\n",
       "        text-align: right;\n",
       "    }\n",
       "</style>\n",
       "<table border=\"1\" class=\"dataframe\">\n",
       "  <thead>\n",
       "    <tr style=\"text-align: right;\">\n",
       "      <th></th>\n",
       "      <th>pos</th>\n",
       "      <th>neg</th>\n",
       "      <th>total</th>\n",
       "      <th>neg_per</th>\n",
       "      <th>pos_per</th>\n",
       "    </tr>\n",
       "  </thead>\n",
       "  <tbody>\n",
       "    <tr>\n",
       "      <td>ambience</td>\n",
       "      <td>1620.000</td>\n",
       "      <td>107.50</td>\n",
       "      <td>1727.500</td>\n",
       "      <td>0.062229</td>\n",
       "      <td>0.937771</td>\n",
       "    </tr>\n",
       "    <tr>\n",
       "      <td>food</td>\n",
       "      <td>3950.750</td>\n",
       "      <td>333.00</td>\n",
       "      <td>4283.750</td>\n",
       "      <td>0.077736</td>\n",
       "      <td>0.922264</td>\n",
       "    </tr>\n",
       "    <tr>\n",
       "      <td>price</td>\n",
       "      <td>122.250</td>\n",
       "      <td>26.00</td>\n",
       "      <td>148.250</td>\n",
       "      <td>0.175379</td>\n",
       "      <td>0.824621</td>\n",
       "    </tr>\n",
       "    <tr>\n",
       "      <td>service</td>\n",
       "      <td>1164.875</td>\n",
       "      <td>144.25</td>\n",
       "      <td>1309.125</td>\n",
       "      <td>0.110188</td>\n",
       "      <td>0.889812</td>\n",
       "    </tr>\n",
       "    <tr>\n",
       "      <td>misc</td>\n",
       "      <td>94.000</td>\n",
       "      <td>31.00</td>\n",
       "      <td>125.000</td>\n",
       "      <td>0.248000</td>\n",
       "      <td>0.752000</td>\n",
       "    </tr>\n",
       "  </tbody>\n",
       "</table>\n",
       "</div>"
      ],
      "text/plain": [
       "               pos     neg     total   neg_per   pos_per\n",
       "ambience  1620.000  107.50  1727.500  0.062229  0.937771\n",
       "food      3950.750  333.00  4283.750  0.077736  0.922264\n",
       "price      122.250   26.00   148.250  0.175379  0.824621\n",
       "service   1164.875  144.25  1309.125  0.110188  0.889812\n",
       "misc        94.000   31.00   125.000  0.248000  0.752000"
      ]
     },
     "execution_count": 31,
     "metadata": {},
     "output_type": "execute_result"
    }
   ],
   "source": [
    "yardbird_df[\"total\"] = yardbird_df.neg + yardbird_df.pos\n",
    "yardbird_df[\"neg_per\"] = yardbird_df.neg/(yardbird_df.neg + yardbird_df.pos)\n",
    "yardbird_df[\"pos_per\"] = yardbird_df.pos/(yardbird_df.neg + yardbird_df.pos)\n",
    "yardbird_df"
   ]
  },
  {
   "cell_type": "code",
   "execution_count": 38,
   "metadata": {},
   "outputs": [
    {
     "ename": "ImportError",
     "evalue": "cannot import name 'bar' from 'plotly.validators' (D:\\anaconda\\lib\\site-packages\\plotly\\validators\\__init__.py)",
     "output_type": "error",
     "traceback": [
      "\u001b[1;31m---------------------------------------------------------------------------\u001b[0m",
      "\u001b[1;31mImportError\u001b[0m                               Traceback (most recent call last)",
      "\u001b[1;32m<ipython-input-38-ad3328bf8490>\u001b[0m in \u001b[0;36m<module>\u001b[1;34m\u001b[0m\n\u001b[0;32m      7\u001b[0m     \u001b[0mx\u001b[0m\u001b[1;33m=\u001b[0m\u001b[0mbellagios_df\u001b[0m\u001b[1;33m.\u001b[0m\u001b[0mindex\u001b[0m\u001b[1;33m,\u001b[0m\u001b[1;33m\u001b[0m\u001b[1;33m\u001b[0m\u001b[0m\n\u001b[0;32m      8\u001b[0m     \u001b[0my\u001b[0m\u001b[1;33m=\u001b[0m\u001b[0mbellagios_df\u001b[0m\u001b[1;33m.\u001b[0m\u001b[0mpos_per\u001b[0m\u001b[1;33m,\u001b[0m\u001b[1;33m\u001b[0m\u001b[1;33m\u001b[0m\u001b[0m\n\u001b[1;32m----> 9\u001b[1;33m     \u001b[0mname\u001b[0m\u001b[1;33m=\u001b[0m\u001b[1;34m'% Pos Sentiment'\u001b[0m\u001b[1;33m\u001b[0m\u001b[1;33m\u001b[0m\u001b[0m\n\u001b[0m\u001b[0;32m     10\u001b[0m )\n\u001b[0;32m     11\u001b[0m trace2 = go.Bar(\n",
      "\u001b[1;32mD:\\anaconda\\lib\\site-packages\\plotly\\graph_objs\\__init__.py\u001b[0m in \u001b[0;36m__init__\u001b[1;34m(self, arg, alignmentgroup, base, basesrc, cliponaxis, constraintext, customdata, customdatasrc, dx, dy, error_x, error_y, hoverinfo, hoverinfosrc, hoverlabel, hovertemplate, hovertemplatesrc, hovertext, hovertextsrc, ids, idssrc, insidetextanchor, insidetextfont, legendgroup, marker, meta, metasrc, name, offset, offsetgroup, offsetsrc, opacity, orientation, outsidetextfont, r, rsrc, selected, selectedpoints, showlegend, stream, t, text, textangle, textfont, textposition, textpositionsrc, textsrc, texttemplate, texttemplatesrc, tsrc, uid, uirevision, unselected, visible, width, widthsrc, x, x0, xaxis, xcalendar, xsrc, y, y0, yaxis, ycalendar, ysrc, **kwargs)\u001b[0m\n\u001b[0;32m  92863\u001b[0m         \u001b[1;31m# Import validators\u001b[0m\u001b[1;33m\u001b[0m\u001b[1;33m\u001b[0m\u001b[1;33m\u001b[0m\u001b[0m\n\u001b[0;32m  92864\u001b[0m         \u001b[1;31m# -----------------\u001b[0m\u001b[1;33m\u001b[0m\u001b[1;33m\u001b[0m\u001b[1;33m\u001b[0m\u001b[0m\n\u001b[1;32m> 92865\u001b[1;33m         \u001b[1;32mfrom\u001b[0m \u001b[0mplotly\u001b[0m\u001b[1;33m.\u001b[0m\u001b[0mvalidators\u001b[0m \u001b[1;32mimport\u001b[0m \u001b[0mbar\u001b[0m \u001b[1;32mas\u001b[0m \u001b[0mv_bar\u001b[0m\u001b[1;33m\u001b[0m\u001b[1;33m\u001b[0m\u001b[0m\n\u001b[0m\u001b[0;32m  92866\u001b[0m \u001b[1;33m\u001b[0m\u001b[0m\n\u001b[0;32m  92867\u001b[0m         \u001b[1;31m# Initialize validators\u001b[0m\u001b[1;33m\u001b[0m\u001b[1;33m\u001b[0m\u001b[1;33m\u001b[0m\u001b[0m\n",
      "\u001b[1;31mImportError\u001b[0m: cannot import name 'bar' from 'plotly.validators' (D:\\anaconda\\lib\\site-packages\\plotly\\validators\\__init__.py)"
     ]
    }
   ],
   "source": [
    "import plotly as plt\n",
    "# plt.tools.set_credentials_file(username='rafay12', api_key='kJIUwjrq4TYBydkPYNU4')\n",
    "\n",
    "import plotly.graph_objs as go\n",
    "\n",
    "trace1 = go.Bar(\n",
    "    x=bellagios_df.index,\n",
    "    y=bellagios_df.pos_per,\n",
    "    name='% Pos Sentiment'\n",
    ")\n",
    "trace2 = go.Bar(\n",
    "    x=bellagios_df.index,\n",
    "    y=bellagios_df.neg_per,\n",
    "    name='% Neg Sentiment'\n",
    ")\n",
    "\n",
    "data = [trace1, trace2]\n",
    "layout = go.Layout(\n",
    "    title = \"Aspect-Based Sentiment for Belligos\",\n",
    "    barmode = 'stack'\n",
    ")\n",
    "\n",
    "fig = go.Figure(data=data, layout=layout)\n",
    "py.iplot(fig)"
   ]
  },
  {
   "cell_type": "code",
   "execution_count": 18,
   "metadata": {},
   "outputs": [
    {
     "name": "stderr",
     "output_type": "stream",
     "text": [
      "/home/rafay007/anaconda3/lib/python3.7/site-packages/IPython/core/display.py:694: UserWarning:\n",
      "\n",
      "Consider using IPython.display.IFrame instead\n",
      "\n"
     ]
    },
    {
     "data": {
      "text/html": [
       "<iframe id=\"igraph\" scrolling=\"no\" style=\"border:none;\" seamless=\"seamless\" src=\"https://plot.ly/~rafay12/48.embed\" height=\"525px\" width=\"100%\"></iframe>"
      ],
      "text/plain": [
       "<chart_studio.tools.PlotlyDisplay object>"
      ]
     },
     "execution_count": 18,
     "metadata": {},
     "output_type": "execute_result"
    }
   ],
   "source": [
    "\n",
    "\n",
    "trace1 = go.Bar(\n",
    "    x=yardbird_df.index,\n",
    "    y=yardbird_df.pos_per,\n",
    "    name='% Pos Sentiment'\n",
    ")\n",
    "trace2 = go.Bar(\n",
    "    x=yardbird_df.index,\n",
    "    y=yardbird_df.neg_per,\n",
    "    name='% Neg Sentiment'\n",
    ")\n",
    "\n",
    "data = [trace1, trace2]\n",
    "layout = go.Layout(\n",
    "    title = \"Aspect-Based Sentiment for Yard?Bird\",\n",
    "    barmode = 'stack'\n",
    ")\n",
    "\n",
    "fig = go.Figure(data=data, layout=layout)\n",
    "py.iplot(fig)"
   ]
  },
  {
   "cell_type": "code",
   "execution_count": 14,
   "metadata": {},
   "outputs": [
    {
     "name": "stderr",
     "output_type": "stream",
     "text": [
      "/home/rafay007/anaconda3/lib/python3.7/site-packages/plotly/graph_objs/_deprecations.py:372: DeprecationWarning:\n",
      "\n",
      "plotly.graph_objs.Line is deprecated.\n",
      "Please replace it with one of the following more specific types\n",
      "  - plotly.graph_objs.scatter.Line\n",
      "  - plotly.graph_objs.layout.shape.Line\n",
      "  - etc.\n",
      "\n",
      "\n",
      "/home/rafay007/anaconda3/lib/python3.7/site-packages/IPython/core/display.py:694: UserWarning:\n",
      "\n",
      "Consider using IPython.display.IFrame instead\n",
      "\n"
     ]
    },
    {
     "data": {
      "text/html": [
       "<iframe id=\"igraph\" scrolling=\"no\" style=\"border:none;\" seamless=\"seamless\" src=\"https://plot.ly/~rafay12/40.embed\" height=\"525px\" width=\"100%\"></iframe>"
      ],
      "text/plain": [
       "<chart_studio.tools.PlotlyDisplay object>"
      ]
     },
     "execution_count": 14,
     "metadata": {},
     "output_type": "execute_result"
    }
   ],
   "source": [
    "\n",
    "trace1 = go.Bar(\n",
    "    x=bellagios_df.index,\n",
    "    y=bellagios_df.pos_per,\n",
    "    name='% Pos Sentiment'\n",
    ")\n",
    "\n",
    "\n",
    "trace2 = go.Line(\n",
    "    x=bellagios_df.index,\n",
    "    y=bellagios_df.neg_per,\n",
    "    name='% Neg Sentiment'\n",
    ")\n",
    "\n",
    "\n",
    "\n",
    "data = [trace1, trace2]\n",
    "layout = go.Layout(\n",
    "    title = \"Aspect-Based Sentiment\",\n",
    "       barmode = 'stack'\n",
    ")\n",
    "\n",
    "fig = go.Figure(data=data, layout=layout)\n",
    "py.iplot(fig)"
   ]
  },
  {
   "cell_type": "code",
   "execution_count": 15,
   "metadata": {},
   "outputs": [
    {
     "name": "stderr",
     "output_type": "stream",
     "text": [
      "/home/rafay007/anaconda3/lib/python3.7/site-packages/plotly/graph_objs/_deprecations.py:372: DeprecationWarning:\n",
      "\n",
      "plotly.graph_objs.Line is deprecated.\n",
      "Please replace it with one of the following more specific types\n",
      "  - plotly.graph_objs.scatter.Line\n",
      "  - plotly.graph_objs.layout.shape.Line\n",
      "  - etc.\n",
      "\n",
      "\n",
      "/home/rafay007/anaconda3/lib/python3.7/site-packages/IPython/core/display.py:694: UserWarning:\n",
      "\n",
      "Consider using IPython.display.IFrame instead\n",
      "\n"
     ]
    },
    {
     "data": {
      "text/html": [
       "<iframe id=\"igraph\" scrolling=\"no\" style=\"border:none;\" seamless=\"seamless\" src=\"https://plot.ly/~rafay12/42.embed\" height=\"525px\" width=\"100%\"></iframe>"
      ],
      "text/plain": [
       "<chart_studio.tools.PlotlyDisplay object>"
      ]
     },
     "execution_count": 15,
     "metadata": {},
     "output_type": "execute_result"
    }
   ],
   "source": [
    "\n",
    "trace1 = go.Line(\n",
    "    x=bellagios_df.index,\n",
    "    y=bellagios_df.pos_per,\n",
    "    name='% Pos Sentiment'\n",
    ")\n",
    "\n",
    "\n",
    "trace2 = go.Line(\n",
    "    x=bellagios_df.index,\n",
    "    y=bellagios_df.neg_per,\n",
    "    name='% Neg Sentiment'\n",
    ")\n",
    "\n",
    "\n",
    "\n",
    "data = [trace1, trace2]\n",
    "layout = go.Layout(\n",
    "    title = \"Aspect-Based Sentiment\",\n",
    "       barmode = 'stack'\n",
    ")\n",
    "\n",
    "fig = go.Figure(data=data, layout=layout)\n",
    "py.iplot(fig)"
   ]
  },
  {
   "cell_type": "code",
   "execution_count": 12,
   "metadata": {},
   "outputs": [
    {
     "data": {
      "text/html": [
       "<div>\n",
       "<style scoped>\n",
       "    .dataframe tbody tr th:only-of-type {\n",
       "        vertical-align: middle;\n",
       "    }\n",
       "\n",
       "    .dataframe tbody tr th {\n",
       "        vertical-align: top;\n",
       "    }\n",
       "\n",
       "    .dataframe thead th {\n",
       "        text-align: right;\n",
       "    }\n",
       "</style>\n",
       "<table border=\"1\" class=\"dataframe\">\n",
       "  <thead>\n",
       "    <tr style=\"text-align: right;\">\n",
       "      <th></th>\n",
       "      <th>pos</th>\n",
       "      <th>neg</th>\n",
       "      <th>total</th>\n",
       "      <th>neg_per</th>\n",
       "      <th>pos_per</th>\n",
       "      <th>pos/neg</th>\n",
       "    </tr>\n",
       "  </thead>\n",
       "  <tbody>\n",
       "    <tr>\n",
       "      <th>ambience</th>\n",
       "      <td>1620.000</td>\n",
       "      <td>107.50</td>\n",
       "      <td>1727.500</td>\n",
       "      <td>0.062229</td>\n",
       "      <td>0.937771</td>\n",
       "      <td>15.069767</td>\n",
       "    </tr>\n",
       "    <tr>\n",
       "      <th>food</th>\n",
       "      <td>3950.750</td>\n",
       "      <td>333.00</td>\n",
       "      <td>4283.750</td>\n",
       "      <td>0.077736</td>\n",
       "      <td>0.922264</td>\n",
       "      <td>11.864114</td>\n",
       "    </tr>\n",
       "    <tr>\n",
       "      <th>price</th>\n",
       "      <td>122.250</td>\n",
       "      <td>26.00</td>\n",
       "      <td>148.250</td>\n",
       "      <td>0.175379</td>\n",
       "      <td>0.824621</td>\n",
       "      <td>4.701923</td>\n",
       "    </tr>\n",
       "    <tr>\n",
       "      <th>service</th>\n",
       "      <td>1164.875</td>\n",
       "      <td>144.25</td>\n",
       "      <td>1309.125</td>\n",
       "      <td>0.110188</td>\n",
       "      <td>0.889812</td>\n",
       "      <td>8.075390</td>\n",
       "    </tr>\n",
       "    <tr>\n",
       "      <th>misc</th>\n",
       "      <td>94.000</td>\n",
       "      <td>31.00</td>\n",
       "      <td>125.000</td>\n",
       "      <td>0.248000</td>\n",
       "      <td>0.752000</td>\n",
       "      <td>3.032258</td>\n",
       "    </tr>\n",
       "  </tbody>\n",
       "</table>\n",
       "</div>"
      ],
      "text/plain": [
       "               pos     neg     total   neg_per   pos_per    pos/neg\n",
       "ambience  1620.000  107.50  1727.500  0.062229  0.937771  15.069767\n",
       "food      3950.750  333.00  4283.750  0.077736  0.922264  11.864114\n",
       "price      122.250   26.00   148.250  0.175379  0.824621   4.701923\n",
       "service   1164.875  144.25  1309.125  0.110188  0.889812   8.075390\n",
       "misc        94.000   31.00   125.000  0.248000  0.752000   3.032258"
      ]
     },
     "execution_count": 12,
     "metadata": {},
     "output_type": "execute_result"
    }
   ],
   "source": [
    "bellagios_df[\"pos/neg\"]=bellagios_df.pos/bellagios_df.neg\n",
    "# yardbird_df[\"pos/neg\"]=yardbird_df.pos/yardbird_df.neg\n",
    "bellagios_df"
   ]
  },
  {
   "cell_type": "code",
   "execution_count": 23,
   "metadata": {},
   "outputs": [
    {
     "name": "stderr",
     "output_type": "stream",
     "text": [
      "/home/rafay007/anaconda3/lib/python3.7/site-packages/IPython/core/display.py:694: UserWarning:\n",
      "\n",
      "Consider using IPython.display.IFrame instead\n",
      "\n"
     ]
    },
    {
     "data": {
      "text/html": [
       "<iframe id=\"igraph\" scrolling=\"no\" style=\"border:none;\" seamless=\"seamless\" src=\"https://plot.ly/~rafay12/56.embed\" height=\"525px\" width=\"100%\"></iframe>"
      ],
      "text/plain": [
       "<chart_studio.tools.PlotlyDisplay object>"
      ]
     },
     "execution_count": 23,
     "metadata": {},
     "output_type": "execute_result"
    }
   ],
   "source": [
    "\n",
    "\n",
    "\n",
    "data = [\n",
    "    go.Scatterpolar(\n",
    "      r = bellagios_df[\"pos/neg\"],\n",
    "      theta = bellagios_df.index,\n",
    "      fill = 'toself',\n",
    "      name = 'bellagios Buffet.',\n",
    "      textfont = dict(size=18)\n",
    "    ),\n",
    "        go.Scatterpolar(\n",
    "      r = yardbird_df[\"pos/neg\"],\n",
    "      theta = yardbird_df.index,\n",
    "      fill = 'toself',\n",
    "      name = 'Yard Bird',\n",
    "      textfont = dict(size=18)\n",
    "    )\n",
    "]\n",
    "\n",
    "layout = go.Layout(\n",
    "    title = \"Aspect Comparison\",\n",
    "        titlefont=dict(\n",
    "            size=30,\n",
    "            color='#7f7f7f'\n",
    "        ),\n",
    "    legend=dict(\n",
    "        font=dict(\n",
    "            size=18,\n",
    "            )\n",
    "        ),\n",
    "        \n",
    "    polar = dict(\n",
    "        radialaxis = dict(\n",
    "              visible = True,\n",
    "              range = [0, 10]\n",
    "            )\n",
    "        ),\n",
    "      showlegend = True\n",
    ")\n",
    "\n",
    "fig = go.Figure(data=data, layout=layout)\n",
    "py.iplot(fig)#, filename = \"radar/multiple\")"
   ]
  },
  {
   "cell_type": "code",
   "execution_count": 24,
   "metadata": {},
   "outputs": [
    {
     "data": {
      "text/html": [
       "<iframe id=\"igraph\" scrolling=\"no\" style=\"border:none;\" seamless=\"seamless\" src=\"https://plot.ly/~rafay12/58.embed\" height=\"525px\" width=\"100%\"></iframe>"
      ],
      "text/plain": [
       "<chart_studio.tools.PlotlyDisplay object>"
      ]
     },
     "execution_count": 24,
     "metadata": {},
     "output_type": "execute_result"
    }
   ],
   "source": [
    "\n",
    "labels = bellagios_df.index\n",
    "values = bellagios_df.total\n",
    "\n",
    "trace = go.Pie(labels=labels, values=values)\n",
    "\n",
    "py.iplot([trace])"
   ]
  },
  {
   "cell_type": "code",
   "execution_count": 25,
   "metadata": {},
   "outputs": [
    {
     "name": "stderr",
     "output_type": "stream",
     "text": [
      "/home/rafay007/anaconda3/lib/python3.7/site-packages/IPython/core/display.py:694: UserWarning:\n",
      "\n",
      "Consider using IPython.display.IFrame instead\n",
      "\n"
     ]
    },
    {
     "data": {
      "text/html": [
       "<iframe id=\"igraph\" scrolling=\"no\" style=\"border:none;\" seamless=\"seamless\" src=\"https://plot.ly/~rafay12/60.embed\" height=\"525px\" width=\"100%\"></iframe>"
      ],
      "text/plain": [
       "<chart_studio.tools.PlotlyDisplay object>"
      ]
     },
     "execution_count": 25,
     "metadata": {},
     "output_type": "execute_result"
    }
   ],
   "source": [
    "labels = yardbird_df.index\n",
    "values = yardbird_df.total\n",
    "\n",
    "trace = go.Pie(labels=labels, values=values)\n",
    "\n",
    "py.iplot([trace])"
   ]
  },
  {
   "cell_type": "code",
   "execution_count": null,
   "metadata": {},
   "outputs": [],
   "source": []
  }
 ],
 "metadata": {
  "kernelspec": {
   "display_name": "Python 3",
   "language": "python",
   "name": "python3"
  },
  "language_info": {
   "codemirror_mode": {
    "name": "ipython",
    "version": 3
   },
   "file_extension": ".py",
   "mimetype": "text/x-python",
   "name": "python",
   "nbconvert_exporter": "python",
   "pygments_lexer": "ipython3",
   "version": "3.7.4"
  },
  "toc": {
   "base_numbering": 1,
   "nav_menu": {},
   "number_sections": true,
   "sideBar": true,
   "skip_h1_title": false,
   "title_cell": "Table of Contents",
   "title_sidebar": "Contents",
   "toc_cell": false,
   "toc_position": {},
   "toc_section_display": true,
   "toc_window_display": false
  }
 },
 "nbformat": 4,
 "nbformat_minor": 2
}
